{
 "cells": [
  {
   "cell_type": "markdown",
   "metadata": {},
   "source": [
    "## CSCS530 Winter 2019\n",
    "#### Complex Systems 530 - Computer Modeling of Complex Systems (Winter 2019)\n",
    "\n",
    "  * Course ID: CMPLXSYS 530\n",
    "  * Course Title: Computer Modeling of Complex Systems\n",
    "  * Term: Winter 2019"
   ]
  },
  {
   "cell_type": "code",
   "execution_count": null,
   "metadata": {
    "collapsed": true
   },
   "outputs": [],
   "source": [
    "%matplotlib inline\n",
    "\n",
    "# Imports\n",
    "import copy\n",
    "import networkx as nx\n",
    "import numpy\n",
    "import matplotlib.pyplot as plt\n",
    "import pandas\n",
    "\n",
    "\n",
    "# Import widget methods\n",
    "from ipywidgets import interact\n",
    "import ipywidgets as widgets"
   ]
  },
  {
   "cell_type": "code",
   "execution_count": null,
   "metadata": {
    "collapsed": false
   },
   "outputs": [],
   "source": [
    "# Probabilistically generate a graph\n",
    "nodes = 100\n",
    "edges = 2\n",
    "prob_out = 0.25\n",
    "g = nx.newman_watts_strogatz_graph(nodes, edges, prob_out)\n",
    "print((g.number_of_nodes(), g.number_of_edges()))"
   ]
  },
  {
   "cell_type": "code",
   "execution_count": null,
   "metadata": {
    "collapsed": false
   },
   "outputs": [],
   "source": [
    "# Draw the graph\n",
    "g_layout = nx.spring_layout(g, iterations=50)\n",
    "nx.draw_networkx(g, pos=g_layout, node_color='white')"
   ]
  },
  {
   "cell_type": "code",
   "execution_count": null,
   "metadata": {
    "collapsed": true
   },
   "outputs": [],
   "source": [
    "# Pick a random person to infect initiallydata:\n",
    "initial_infected = numpy.random.choice(g.nodes())\n",
    "\n",
    "# Setup initial S/I/R states\n",
    "for node_id in g.nodes():\n",
    "    if node_id == initial_infected:\n",
    "        g.node[node_id][\"state\"] = \"I\"\n",
    "    else:\n",
    "        g.node[node_id][\"state\"] = \"S\""
   ]
  },
  {
   "cell_type": "code",
   "execution_count": null,
   "metadata": {
    "collapsed": false
   },
   "outputs": [],
   "source": [
    "def draw_graph(g, g_layout):\n",
    "    \"\"\"\n",
    "    Draw an SIR visualization.\n",
    "    \"\"\"\n",
    "    # Now we can visualize the infected node's position\n",
    "    node_map = {\"S\": [node_id for node_id in g.node if g.node[node_id][\"state\"] == \"S\"],\n",
    "                \"I\": [node_id for node_id in g.node if g.node[node_id][\"state\"] == \"I\"],\n",
    "                \"R\": [node_id for node_id in g.node if g.node[node_id][\"state\"] == \"R\"],\n",
    "                }\n",
    "\n",
    "    # Now we can visualize the infected node's position\n",
    "    f = plt.figure(figsize=(12,12))\n",
    "    nx.draw_networkx_nodes(g, g_layout,\n",
    "                           nodelist=node_map[\"S\"],\n",
    "                           node_color=\"white\")\n",
    "\n",
    "    nx.draw_networkx_nodes(g, g_layout,\n",
    "                           nodelist=node_map[\"I\"],\n",
    "                           node_color=\"red\")\n",
    "\n",
    "    nx.draw_networkx_nodes(g, g_layout,\n",
    "                           nodelist=node_map[\"R\"],\n",
    "                           node_color=\"black\")\n",
    "\n",
    "    nx.draw_networkx_edges(g, g_layout, \n",
    "                           width=1.0, \n",
    "                           alpha=0.5)\n",
    "\n",
    "    _ = nx.draw_networkx_labels(g, g_layout,\n",
    "                            dict(zip(g.nodes(), g.nodes())),\n",
    "                            font_size=10)\n",
    "    \n",
    "    ax = f.gca()\n",
    "    ax.set_aspect(1./ax.get_data_ratio())   \n",
    "\n",
    "draw_graph(g, g_layout)"
   ]
  },
  {
   "cell_type": "code",
   "execution_count": null,
   "metadata": {
    "collapsed": true
   },
   "outputs": [],
   "source": [
    "# Probability of infection per edge\n",
    "prob_infection = .8\n",
    "prob_recovery = 0.3\n",
    "\n",
    "# Track graph history\n",
    "g_history = [copy.deepcopy(g)]\n",
    "\n",
    "# Now run the model \n",
    "max_steps = 50\n",
    "for step in xrange(max_steps):\n",
    "    # Store changes\n",
    "    new_infected = []\n",
    "    new_recovered = []\n",
    "    \n",
    "    # Iterate over I and infect any S neighbors\n",
    "    for node_id in g.nodes():\n",
    "        if g.node[node_id][\"state\"] == \"I\":\n",
    "            # Infect connected persons with prob_infection rate\n",
    "            neighbors = g.neighbors(node_id)\n",
    "            for neighbor_id in neighbors:\n",
    "                if g.node[neighbor_id][\"state\"] == \"S\" \\\n",
    "                    and numpy.random.random() <= prob_infection:\n",
    "                    new_infected.append(neighbor_id)\n",
    "            \n",
    "            # Recover with some rate\n",
    "            if numpy.random.random() <= prob_recovery:\n",
    "                new_recovered.append(node_id)\n",
    "    \n",
    "    # Update graph\n",
    "    for node_id in g.nodes():\n",
    "        if node_id in new_recovered:\n",
    "            g.node[node_id][\"state\"] = \"R\"\n",
    "        elif node_id in new_infected:\n",
    "            g.node[node_id][\"state\"] = \"I\"\n",
    "\n",
    "    # Track the latest step\n",
    "    g_history.append(copy.deepcopy(g))"
   ]
  },
  {
   "cell_type": "code",
   "execution_count": null,
   "metadata": {
    "collapsed": false
   },
   "outputs": [],
   "source": [
    "def display_graph_step(step=0):\n",
    "    \"\"\"\n",
    "    Display a step from the graph history object.\n",
    "    \"\"\"\n",
    "    draw_graph(g_history[step], g_layout)\n",
    "\n",
    "interact(display_graph_step,\n",
    "                step= widgets.IntSlider(min=0, max=len(g_history)-1,\n",
    "                                     step=1))"
   ]
  },
  {
   "cell_type": "markdown",
   "metadata": {},
   "source": [
    "Copyright (c) 2014, Michael Bommarito All rights reserved.\n",
    "\n",
    "Redistribution and use in source and binary forms, with or without modification, are permitted provided that the following conditions are met:\n",
    "\n",
    "- Redistributions of source code must retain the above copyright notice, this list of conditions and the following disclaimer.\n",
    "\n",
    "- Redistributions in binary form must reproduce the above copyright notice, this list of conditions and the following disclaimer in the documentation and/or other materials provided with the distribution.\n",
    "\n",
    "THIS SOFTWARE IS PROVIDED BY THE COPYRIGHT HOLDERS AND CONTRIBUTORS \"AS IS\" AND ANY EXPRESS OR IMPLIED WARRANTIES, INCLUDING, BUT NOT LIMITED TO, THE IMPLIED WARRANTIES OF MERCHANTABILITY AND FITNESS FOR A PARTICULAR PURPOSE ARE DISCLAIMED. IN NO EVENT SHALL THE COPYRIGHT HOLDER OR CONTRIBUTORS BE LIABLE FOR ANY DIRECT, INDIRECT, INCIDENTAL, SPECIAL, EXEMPLARY, OR CONSEQUENTIAL DAMAGES (INCLUDING, BUT NOT LIMITED TO, PROCUREMENT OF SUBSTITUTE GOODS OR SERVICES; LOSS OF USE, DATA, OR PROFITS; OR BUSINESS INTERRUPTION) HOWEVER CAUSED AND ON ANY THEORY OF LIABILITY, WHETHER IN CONTRACT, STRICT LIABILITY, OR TORT (INCLUDING NEGLIGENCE OR OTHERWISE) ARISING IN ANY WAY OUT OF THE USE OF THIS SOFTWARE, EVEN IF ADVISED OF THE POSSIBILITY OF SUCH DAMAGE"
   ]
  },
  {
   "cell_type": "code",
   "execution_count": null,
   "metadata": {
    "collapsed": true
   },
   "outputs": [],
   "source": []
  }
 ],
 "metadata": {
  "anaconda-cloud": {},
  "kernelspec": {
   "display_name": "Python [default]",
   "language": "python",
   "name": "python2"
  },
  "language_info": {
   "codemirror_mode": {
    "name": "ipython",
    "version": 2
   },
   "file_extension": ".py",
   "mimetype": "text/x-python",
   "name": "python",
   "nbconvert_exporter": "python",
   "pygments_lexer": "ipython2",
   "version": "2.7.12"
  },
  "widgets": {
   "state": {
    "af7b3256141543a1aa92737d5348db2c": {
     "views": [
      {
       "cell_index": 7
      }
     ]
    }
   },
   "version": "1.2.0"
  }
 },
 "nbformat": 4,
 "nbformat_minor": 1
}
